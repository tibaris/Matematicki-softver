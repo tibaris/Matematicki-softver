{
 "cells": [
  {
   "cell_type": "markdown",
   "metadata": {},
   "source": [
    "# MATEMATIČKI SOFTVER, ZADAĆA 1. \n",
    "# OPTIMIZACIJA PORTFELJA \n",
    "Portfelj je skup dionica, obveznica ili bilo kakvih financijskih instrumenata koji imaju neku vrijednost. Cilj ove zadaće je proučiti neke metode optimizacije portfelja za **unaprijed fiksiran** portfelj, primjeniti ih na period od 2012. do 2016. te proučiti njihove rezultate u 2017. godine. Dodatno uspoređujemo njihove prinose ih s tzv. *benchmarkom* najpopularnijim dioničkim indeksom S&P 500. \n",
    "\n",
    "Cilj nam je otkriti koja je metoda najefikasnija bila u 2017. te \"pobijediti\" S&P 500. Na kraju ćemo za jednu metodu usporediti rezultate optimizacije ako prinose gledamo na mjesečnoj i godišnjoj razini.\n",
    "Prvo učitavamo podatke s Yahoo Finance-a, te ih pripremamo za optimizacije računajući prinose i ostale parametre.\n",
    "Nadalje, računamo udjele instrumenata u našem portfelju za više metoda.\n",
    "U idućoj fazi uspoređujemo performansu naših portfelja s naglaskom na vizualizaciju.\n",
    "\n",
    "Naš portfelj će činiti sljedeći objekti:\n",
    "* Amazon (AMZN)\n",
    "* Bitcoin (BTC)\n",
    "* The Coca-Cola Company (KO)\n",
    "* JPMorgan Chase & Co (JPM)\n",
    "* Boeing Company (BA) \n",
    "* Visa Inc (V) \n",
    "* Johnson&Johnson (JNJ)\n",
    "\n"
   ]
  },
  {
   "cell_type": "markdown",
   "metadata": {},
   "source": [
    "## Učitavanje i priprema podataka"
   ]
  },
  {
   "cell_type": "code",
   "execution_count": null,
   "metadata": {},
   "outputs": [],
   "source": []
  },
  {
   "cell_type": "markdown",
   "metadata": {},
   "source": [
    "## Provođenje metoda"
   ]
  },
  {
   "cell_type": "code",
   "execution_count": null,
   "metadata": {},
   "outputs": [],
   "source": []
  },
  {
   "cell_type": "markdown",
   "metadata": {},
   "source": [
    "## Testiranje rezultata "
   ]
  },
  {
   "cell_type": "code",
   "execution_count": null,
   "metadata": {},
   "outputs": [],
   "source": []
  },
  {
   "cell_type": "markdown",
   "metadata": {},
   "source": [
    "## Zaključak"
   ]
  },
  {
   "cell_type": "code",
   "execution_count": null,
   "metadata": {},
   "outputs": [],
   "source": []
  }
 ],
 "metadata": {
  "kernelspec": {
   "display_name": "Python 3",
   "language": "python",
   "name": "python3"
  },
  "language_info": {
   "codemirror_mode": {
    "name": "ipython",
    "version": 3
   },
   "file_extension": ".py",
   "mimetype": "text/x-python",
   "name": "python",
   "nbconvert_exporter": "python",
   "pygments_lexer": "ipython3",
   "version": "3.6.4"
  }
 },
 "nbformat": 4,
 "nbformat_minor": 2
}
