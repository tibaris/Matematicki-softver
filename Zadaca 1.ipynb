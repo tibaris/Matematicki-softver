{
 "cells": [
  {
   "cell_type": "markdown",
   "metadata": {},
   "source": [
    "# MATEMATIČKI SOFTVER, ZADAĆA 1. \n",
    "# OPTIMIZACIJA PORTFELJA \n",
    "Portfelj je skup dionica, obveznica ili bilo kakvih financijskih instrumenata koji imaju neku vrijednost. Cilj ove zadaće je proučiti neke metode optimizacije portfelja za **unaprijed fiksiran** portfelj, primjeniti ih na period od 2012. do 2016. te proučiti njihove rezultate u 2017. godine do danas. Dodatno uspoređujemo njihove prinose ih s tzv. *benchmarkom* najpopularnijim dioničkim indeksom S&P 500. \n",
    "\n",
    "Cilj nam je otkriti koja je metoda najefikasnija bila u 2017. te \"pobijediti\" S&P 500. Na kraju ćemo za jednu metodu usporediti rezultate optimizacije ako prinose gledamo na mjesečnoj i godišnjoj razini.\n",
    "Prvo učitavamo podatke s Yahoo Finance-a, te ih pripremamo za optimizacije računajući prinose i ostale parametre.\n",
    "Nadalje, računamo udjele instrumenata u našem portfelju za više metoda.\n",
    "U idućoj fazi uspoređujemo performansu naših portfelja s naglaskom na vizualizaciju.\n",
    "\n",
    "Naš portfelj će činiti sljedeći objekti:\n",
    "* Amazon (AMZN)\n",
    "* Bitcoin (BTC)\n",
    "* The Coca-Cola Company (KO)\n",
    "* JPMorgan Chase & Co (JPM)\n",
    "* Boeing Company (BA) \n",
    "* Visa Inc (V) \n",
    "* Johnson&Johnson (JNJ)\n",
    "\n"
   ]
  },
  {
   "cell_type": "markdown",
   "metadata": {},
   "source": [
    "## Učitavanje i priprema podataka"
   ]
  },
  {
   "cell_type": "code",
   "execution_count": 47,
   "metadata": {},
   "outputs": [],
   "source": [
    "import matplotlib.pyplot as plt\n",
    "import pandas as pd\n",
    " \n",
    "def ucitaj(x):\n",
    "    y=\"%s.csv\"%x\n",
    "    z=pd.read_csv(y)\n",
    "    del z['High'],z['Low'],z['Close'],z['Adj Close'],z['Volume']\n",
    "    z.drop(0, inplace=True)\n",
    "    z.rename(columns={'Open':'Price'},inplace=True)\n",
    "    return z"
   ]
  },
  {
   "cell_type": "code",
   "execution_count": 48,
   "metadata": {},
   "outputs": [],
   "source": [
    "import numpy as np\n",
    "\n",
    "def povrat(x):\n",
    "    y=np.linspace(0,0,59)\n",
    "    for i in range(1,60):\n",
    "        y[i-1]=(x['Price'][i+1]-x['Price'][i])/(x['Price'][i])*100\n",
    "    return y"
   ]
  },
  {
   "cell_type": "code",
   "execution_count": 49,
   "metadata": {},
   "outputs": [],
   "source": [
    "port=['AMZN','BTC','KO','JPM','BA','V','JNJ']\n",
    "z={p : povrat(ucitaj(p)) for p in port}"
   ]
  },
  {
   "cell_type": "markdown",
   "metadata": {},
   "source": [
    "## Provođenje metoda"
   ]
  },
  {
   "cell_type": "markdown",
   "metadata": {},
   "source": [
    "### Portfelj 1: Equal Weight \n",
    "Najjednostavnija vrsta je da od svih 7 uzmemo jednak udio svakog instrumenata u našem portfelju i da to bude naša strategija za 2017. godinu."
   ]
  },
  {
   "cell_type": "code",
   "execution_count": 4,
   "metadata": {},
   "outputs": [
    {
     "data": {
      "image/png": "[encoded data removed]",
      "text/plain": [
       "<Figure size 432x288 with 1 Axes>"
      ]
     },
     "metadata": {},
     "output_type": "display_data"
    }
   ],
   "source": [
    "w1=np.linspace(1/7,1/7,7)\n",
    "labels= 'AMZN','BTC','KO','JPM','BA','V','JNJ'\n",
    "fig1, ax1 = plt.subplots()\n",
    "ax1.pie(w1, labels=labels)\n",
    "ax1.axis('equal') \n",
    "plt.show()"
   ]
  },
  {
   "cell_type": "markdown",
   "metadata": {},
   "source": [
    "### Portfelj 2: Minimum Variance\n",
    "Strategija se temelji na optimizaciji udjela instrumenata tako da se maksimizira povrat (uz postavljenu donju granicu povrata) pritom minimizirajuci rizik tj varijancu. \n",
    "Za donji povrat uzimamo 10% na godišnjoj razini (želimo pobijediti S&P 500, a njen godišnji povrat kroz povijest je oko 8%, ali mi smo spremni na veci rizik). Posto gledamo podatke na mjesecnoj razini donju granicu treba prilagoditi.\n",
    "\n",
    "Drugim rjecima: _FORMULE_\n",
    "\n",
    "Za to ce nam biti potreban paket *cvxopt* (potrebno ga je dodatno skinuti i instalirati sto zna biti dugotrajno: \n",
    "http://cvxopt.org/download/index.html)"
   ]
  },
  {
   "cell_type": "code",
   "execution_count": 5,
   "metadata": {},
   "outputs": [],
   "source": [
    "rg=0.10\n",
    "r=((1+rg)**(1/12)-1)*100\n",
    "n=7"
   ]
  },
  {
   "cell_type": "code",
   "execution_count": 50,
   "metadata": {},
   "outputs": [],
   "source": [
    "from statsmodels.stats.correlation_tools import cov_nearest\n",
    "from cvxopt import matrix,solvers\n",
    "\n",
    "data=[(povrat(ucitaj(p))) for p in port]\n",
    "cv=cov_nearest(np.cov(data))\n",
    "P=matrix(np.cov(data))"
   ]
  },
  {
   "cell_type": "code",
   "execution_count": 7,
   "metadata": {},
   "outputs": [],
   "source": [
    "ravg=[z[p].mean() for p in port]\n",
    "ravg=matrix(ravg)"
   ]
  },
  {
   "cell_type": "code",
   "execution_count": 8,
   "metadata": {},
   "outputs": [],
   "source": [
    "G= matrix(np.concatenate((-np.transpose(np.array(ravg)), -np.identity(n)), 0))\n",
    "h = matrix(np.concatenate((-np.ones((1,1))*r, np.zeros((n,1))), 0))\n",
    "q = matrix(np.zeros((n, 1)))"
   ]
  },
  {
   "cell_type": "code",
   "execution_count": 9,
   "metadata": {},
   "outputs": [
    {
     "name": "stdout",
     "output_type": "stream",
     "text": [
      "4.658343623080852e-10\n",
      "2.807932963519591e-09\n",
      "0.33477590305471067\n",
      "0.05599024674355051\n",
      "0.03222306245594534\n",
      "0.18825227560635535\n",
      "0.3887585088656708\n"
     ]
    }
   ],
   "source": [
    "A = matrix(1.0, (1,n))\n",
    "b=matrix(1.0)\n",
    "solvers.options['show_progress']=False\n",
    "solvers.options['maxiters']=100\n",
    "w2=solvers.qp(P, q, G, h, A, b)\n",
    "for i in range(0,7):\n",
    "    print(w2['x'][i])"
   ]
  },
  {
   "cell_type": "code",
   "execution_count": 10,
   "metadata": {},
   "outputs": [],
   "source": [
    "w2=[4.65834336382758e-08,2.8079320074491786e-07,0.33477583209897793,\n",
    "    0.055989989760665555,0.032222948677874896,0.1882526450407398,0.3887582570451074]"
   ]
  },
  {
   "cell_type": "code",
   "execution_count": 11,
   "metadata": {},
   "outputs": [
    {
     "data": {
      "image/png": "[encoded data removed]",
      "text/plain": [
       "<Figure size 432x288 with 1 Axes>"
      ]
     },
     "metadata": {},
     "output_type": "display_data"
    }
   ],
   "source": [
    "fig2, ax2 = plt.subplots()\n",
    "ax2.pie(w2, labels=labels)\n",
    "ax2.axis('equal') \n",
    "plt.show()"
   ]
  },
  {
   "cell_type": "markdown",
   "metadata": {},
   "source": [
    "### Porfelj 2a: Minimum Variance, Risk Ehanced\n",
    "Zelimo preuzeti dosta veci rizik, stoga granicu godisnjeg povrata povecavamo na 20%."
   ]
  },
  {
   "cell_type": "code",
   "execution_count": 12,
   "metadata": {},
   "outputs": [
    {
     "name": "stdout",
     "output_type": "stream",
     "text": [
      "0.04231601769582674\n",
      "0.00461322702416489\n",
      "0.019035616313593195\n",
      "0.045654965471400306\n",
      "0.026494245584335437\n",
      "0.36328494488685775\n",
      "0.49860098302382166\n"
     ]
    }
   ],
   "source": [
    "rg=0.20\n",
    "r=((1+rg)**(1/12)-1)*100\n",
    "h = matrix(np.concatenate((-np.ones((1,1))*r, np.zeros((n,1))), 0))\n",
    "w2a=solvers.qp(P, q, G, h, A, b)\n",
    "for i in range(0,7):\n",
    "    print(w2a['x'][i])"
   ]
  },
  {
   "cell_type": "code",
   "execution_count": 13,
   "metadata": {},
   "outputs": [
    {
     "data": {
      "image/png": "[encoded data removed]",
      "text/plain": [
       "<Figure size 432x288 with 1 Axes>"
      ]
     },
     "metadata": {},
     "output_type": "display_data"
    }
   ],
   "source": [
    "w2a=[0.04231601769582674,0.00461322702416489,0.019035616313593195,0.045654965471400306,\n",
    "0.026494245584335437,0.36328494488685775,0.49860098302382166]\n",
    "fig2a, ax2a = plt.subplots()\n",
    "ax2a.pie(w2a, labels=labels)\n",
    "ax2a.axis('equal') \n",
    "plt.show()\n"
   ]
  },
  {
   "cell_type": "markdown",
   "metadata": {},
   "source": [
    "### Portfelj 3: Maximum Diversification\n",
    "Maximum Diversification Approach je metoda bazirana na riziku koja ne uzima u obzir **ocekivani povrat**.\n",
    "\n",
    "Temelji se na maksizimizaciji tzv *Diversification ratio*-a:\n",
    "\n",
    "*FORMULA*\n",
    "\n",
    "Napomena: problem trazenja maksimuma svodimo na problem trazenja minimuma tako da trazimo minimum izraza \n",
    "*1/(diversification_ratio*)"
   ]
  },
  {
   "cell_type": "code",
   "execution_count": 14,
   "metadata": {},
   "outputs": [
    {
     "data": {
      "text/plain": [
       "True"
      ]
     },
     "execution_count": 14,
     "metadata": {},
     "output_type": "execute_result"
    }
   ],
   "source": [
    "w3=np.linspace(1/7,1/7,7)\n",
    "def div_ratio(w,V):\n",
    "    d1=np.dot(np.transpose(w),np.diagonal(V))\n",
    "    d2=np.sqrt(np.matmul(np.transpose(w),np.matmul(V,w)))\n",
    "    return d2/d1   \n",
    "\n",
    "def long_cons(x):\n",
    "    return min([x[i]>=0 and x[i]<=1 for i in range(0,7)]) and round(sum(x))==1\n",
    "\n",
    "long_cons(w3)   "
   ]
  },
  {
   "cell_type": "code",
   "execution_count": 15,
   "metadata": {},
   "outputs": [
    {
     "data": {
      "text/plain": [
       "     fun: 0.014735191294285738\n",
       "     jac: array([ -1.42588979e-05,   5.20260073e-06,   1.25622610e-05,\n",
       "         8.09249468e-06,   1.52442371e-05,  -1.87671976e-05,\n",
       "         2.51421006e-05])\n",
       " message: 'Optimization terminated successfully.'\n",
       "    nfev: 154\n",
       "     nit: 17\n",
       "    njev: 17\n",
       "  status: 0\n",
       " success: True\n",
       "       x: array([-1.03784901,  4.44991374, -0.5343624 , -0.93039196, -0.99557013,\n",
       "       -0.40939187, -0.69435185])"
      ]
     },
     "execution_count": 15,
     "metadata": {},
     "output_type": "execute_result"
    }
   ],
   "source": [
    "import scipy as sp\n",
    "cons = ({'type': 'eq', 'fun': long_cons})\n",
    "w3=sp.optimize.minimize(div_ratio, w3,args=cv,method='SLSQP')\n",
    "w3"
   ]
  },
  {
   "cell_type": "markdown",
   "metadata": {},
   "source": [
    "Naisao sam na problem s optimizacijom u scipy-ju (*'Singular matrix C in LSQ subproblem'*) kad postavim ogranicenja za udjele u portfelju (naredba: *w3=sp.optimize.minimize(div_ratio, w3,args=cv,method='SLSQP',constraints=cons)*, primjerice: razuman je uvjet da su nam vrijednosti udjela izmedu 0 i 1, te da u sumi daju 1. \n",
    "\n",
    "Zato sam proveo optimizaciju bez *constraints-a* i dobio gornje rezultate. Ako prihvatimo koncpet *sell-short-a*. Vidimo da bi imali samo samo jednu tzv. *long* poziciju, stoga sav novac od \"shortanja\" mozemo staviti u tu jednu poziciju."
   ]
  },
  {
   "cell_type": "code",
   "execution_count": 16,
   "metadata": {},
   "outputs": [
    {
     "data": {
      "image/png": "[encoded data removed]",
      "text/plain": [
       "<Figure size 432x288 with 1 Axes>"
      ]
     },
     "metadata": {},
     "output_type": "display_data"
    }
   ],
   "source": [
    "w3=np.array([-1.03784901,  4.44991374, -0.5343624 , -0.93039196, -0.99557013,\n",
    "       -0.40939187, -0.69435185])\n",
    "i=1-sum(w3)\n",
    "w3=np.array([-1.03784901,  4.44991374+i, -0.5343624 , -0.93039196, -0.99557013,\n",
    "       -0.40939187, -0.69435185])\n",
    "\n",
    "fig3, ax3 = plt.subplots()\n",
    "ax3.pie(np.absolute(w3)/(sum(np.absolute(w3))), labels=labels)\n",
    "ax3.axis('equal') \n",
    "plt.show()\n"
   ]
  },
  {
   "cell_type": "markdown",
   "metadata": {},
   "source": [
    "## Testiranje rezultata "
   ]
  },
  {
   "cell_type": "code",
   "execution_count": 17,
   "metadata": {},
   "outputs": [
    {
     "data": {
      "text/plain": [
       "<matplotlib.axes._subplots.AxesSubplot at 0xd29c90df98>"
      ]
     },
     "execution_count": 17,
     "metadata": {},
     "output_type": "execute_result"
    },
    {
     "data": {
      "image/png": "[encoded data removed]",
      "text/plain": [
       "<Figure size 432x288 with 1 Axes>"
      ]
     },
     "metadata": {},
     "output_type": "display_data"
    }
   ],
   "source": [
    "SP=ucitaj(\"SP2017\")\n",
    "SP.set_index(\"Date\")[\"Price\"].plot()"
   ]
  },
  {
   "cell_type": "code",
   "execution_count": 87,
   "metadata": {},
   "outputs": [],
   "source": [
    "port2=['AMZNn','BTCn','KOn','JPMn','BAn','Vn','JNJn']\n",
    "pov=np.array([ucitaj(p)[\"Price\"][1] for p in port])\n",
    "pov2=np.array([ucitaj(p)[\"Price\"][16] for p in port])\n",
    "ret=(pov2-pov)/pov"
   ]
  },
  {
   "cell_type": "code",
   "execution_count": 89,
   "metadata": {},
   "outputs": [],
   "source": [
    "rSP=(SP[\"Price\"][16]-SP[\"Price\"][1])/SP[\"Price\"][1]\n",
    "r1=np.dot(ret,w1)\n",
    "r2=np.dot(ret,w2)\n",
    "r2a=np.dot(ret,w2a)\n",
    "r3=np.dot(ret,w3)"
   ]
  },
  {
   "cell_type": "code",
   "execution_count": 103,
   "metadata": {},
   "outputs": [
    {
     "data": {
      "text/plain": [
       "[0.16114970133809758,\n",
       " 2.9719592037948508,\n",
       " 0.29205887282384507,\n",
       " 0.48628169152618672]"
      ]
     },
     "execution_count": 103,
     "metadata": {},
     "output_type": "execute_result"
    }
   ],
   "source": [
    "r=[rSP,r1,r2,r2a,r3]\n",
    "r[0:4]"
   ]
  },
  {
   "cell_type": "code",
   "execution_count": 110,
   "metadata": {},
   "outputs": [
    {
     "data": {
      "image/png": "[encoded data removed]",
      "text/plain": [
       "<Figure size 432x288 with 1 Axes>"
      ]
     },
     "metadata": {},
     "output_type": "display_data"
    }
   ],
   "source": [
    "fig5, ax5 = plt.subplots()\n",
    "ind = np.arange(4)\n",
    "width=0.5\n",
    "rects1 = ax5.bar(ind,r[0:4], width, color='b')\n",
    "ax5.set_xticklabels((' ','SP',' ', 'P1',' ', 'P2',' ', 'P2a'))\n",
    "plt.show()"
   ]
  },
  {
   "cell_type": "markdown",
   "metadata": {},
   "source": [
    "## Zaključak"
   ]
  },
  {
   "cell_type": "code",
   "execution_count": null,
   "metadata": {},
   "outputs": [],
   "source": []
  },
  {
   "cell_type": "code",
   "execution_count": null,
   "metadata": {},
   "outputs": [],
   "source": []
  }
 ],
 "metadata": {
  "kernelspec": {
   "display_name": "Python 3",
   "language": "python",
   "name": "python3"
  },
  "language_info": {
   "codemirror_mode": {
    "name": "ipython",
    "version": 3
   },
   "file_extension": ".py",
   "mimetype": "text/x-python",
   "name": "python",
   "nbconvert_exporter": "python",
   "pygments_lexer": "ipython3",
   "version": "3.5.5"
  }
 },
 "nbformat": 4,
 "nbformat_minor": 2
}
