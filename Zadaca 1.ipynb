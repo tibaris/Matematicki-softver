{
 "cells": [
  {
   "cell_type": "markdown",
   "metadata": {},
   "source": [
    "# MATEMATIČKI SOFTVER, ZADAĆA 1. \n",
    "# OPTIMIZACIJA PORTFELJA \n",
    "Portfelj je skup dionica, obveznica ili bilo kakvih financijskih instrumenata koji imaju neku vrijednost. Cilj ove zadaće je proučiti neke metode optimizacije portfelja za **unaprijed fiksiran** portfelj, primjeniti ih na period od 2012. do 2016. te proučiti njihove rezultate u 2017. godine. Dodatno uspoređujemo njihove prinose ih s tzv. *benchmarkom* najpopularnijim dioničkim indeksom S&P 500. \n",
    "\n",
    "Cilj nam je otkriti koja je metoda najefikasnija bila u 2017. te \"pobijediti\" S&P 500. Na kraju ćemo za jednu metodu usporediti rezultate optimizacije ako prinose gledamo na mjesečnoj i godišnjoj razini.\n",
    "Prvo učitavamo podatke s Yahoo Finance-a, te ih pripremamo za optimizacije računajući prinose i ostale parametre.\n",
    "Nadalje, računamo udjele instrumenata u našem portfelju za više metoda.\n",
    "U idućoj fazi uspoređujemo performansu naših portfelja s naglaskom na vizualizaciju.\n",
    "\n",
    "Naš portfelj će činiti sljedeći objekti:\n",
    "* Amazon (AMZN)\n",
    "* Bitcoin (BTC)\n",
    "* The Coca-Cola Company (KO)\n",
    "* JPMorgan Chase & Co (JPM)\n",
    "* Boeing Company (BA) \n",
    "* Visa Inc (V) \n",
    "* Johnson&Johnson (JNJ)\n",
    "\n"
   ]
  },
  {
   "cell_type": "markdown",
   "metadata": {},
   "source": [
    "## Učitavanje i priprema podataka"
   ]
  },
  {
   "cell_type": "code",
   "execution_count": 112,
   "metadata": {},
   "outputs": [],
   "source": [
    "import matplotlib.pyplot as plt\n",
    "import pandas as pd\n",
    " \n",
    "def ucitaj(x):\n",
    "    y=\"%s.csv\"%x\n",
    "    z=pd.read_csv(y)\n",
    "    del z['High'],z['Low'],z['Close'],z['Adj Close'],z['Volume']\n",
    "    z.drop(0, inplace=True)\n",
    "    z.rename(columns={'Open':'Price'},inplace=True)\n",
    "    return z"
   ]
  },
  {
   "cell_type": "code",
   "execution_count": 113,
   "metadata": {},
   "outputs": [],
   "source": [
    "import numpy as np\n",
    "\n",
    "def povrat(x):\n",
    "    y=np.linspace(0,0,59)\n",
    "    for i in range(1,60):\n",
    "        y[i-1]=(x['Price'][i+1]-x['Price'][i])/(x['Price'][i])\n",
    "    return y"
   ]
  },
  {
   "cell_type": "code",
   "execution_count": 173,
   "metadata": {},
   "outputs": [],
   "source": [
    "port=['AMZN','BTC','KO','JPM','BA','V','JNJ']\n",
    "z={p : povrat(ucitaj(p)) for p in port}"
   ]
  },
  {
   "cell_type": "markdown",
   "metadata": {},
   "source": [
    "## Provođenje metoda"
   ]
  },
  {
   "cell_type": "markdown",
   "metadata": {},
   "source": [
    "### Portfelj 1: Equal Weight \n",
    "Najjednostavnija vrsta je da od svih 7 uzmemo jednak udio svakog instrumenata u našem portfelju i da to bude naša strategija za 2017. godinu."
   ]
  },
  {
   "cell_type": "code",
   "execution_count": 119,
   "metadata": {},
   "outputs": [
    {
     "data": {
      "image/png": "[encoded data removed]",
      "text/plain": [
       "<matplotlib.figure.Figure at 0x88c582a2e8>"
      ]
     },
     "metadata": {},
     "output_type": "display_data"
    }
   ],
   "source": [
    "w1=np.linspace(1/7,1/7,7)\n",
    "labels= 'AMZN','BTC','KO','JPM','BA','V','JNJ'\n",
    "fig1, ax1 = plt.subplots()\n",
    "ax1.pie(w1, labels=labels)\n",
    "ax1.axis('equal') \n",
    "plt.show()"
   ]
  },
  {
   "cell_type": "markdown",
   "metadata": {},
   "source": [
    "### Portfelj 2: Minimum Variance"
   ]
  },
  {
   "cell_type": "code",
   "execution_count": 176,
   "metadata": {},
   "outputs": [
    {
     "data": {
      "text/plain": [
       "array([0., 0., 0., 0., 0., 0., 0.])"
      ]
     },
     "execution_count": 176,
     "metadata": {},
     "output_type": "execute_result"
    }
   ],
   "source": [
    "w2=np.linspace(0,0,7)\n",
    "w2"
   ]
  },
  {
   "cell_type": "markdown",
   "metadata": {},
   "source": [
    "## Testiranje rezultata "
   ]
  },
  {
   "cell_type": "code",
   "execution_count": null,
   "metadata": {},
   "outputs": [],
   "source": []
  },
  {
   "cell_type": "markdown",
   "metadata": {},
   "source": [
    "## Zaključak"
   ]
  },
  {
   "cell_type": "code",
   "execution_count": null,
   "metadata": {},
   "outputs": [],
   "source": []
  }
 ],
 "metadata": {
  "kernelspec": {
   "display_name": "Python 3",
   "language": "python",
   "name": "python3"
  }
 },
 "nbformat": 4,
 "nbformat_minor": 2
}
