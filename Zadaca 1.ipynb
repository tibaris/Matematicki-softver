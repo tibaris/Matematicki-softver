{
 "cells": [
  {
   "cell_type": "markdown",
   "metadata": {},
   "source": [
    "# MATEMATIČKI SOFTVER, ZADAĆA 1. \n",
    "# OPTIMIZACIJA PORTFELJA \n",
    "Portfelj je skup dionica, obveznica ili bilo kakvih financijskih instrumenata koji imaju neku vrijednost. Cilj ove zadaće je proučiti neke metode optimizacije portfelja za **unaprijed fiksiran** portfelj, primjeniti ih na period od 2012. do 2016. te proučiti njihove rezultate u 2017. godine. Dodatno uspoređujemo njihove prinose ih s tzv. *benchmarkom* najpopularnijim dioničkim indeksom S&P 500. \n",
    "\n",
    "Cilj nam je otkriti koja je metoda najefikasnija bila u 2017. te \"pobijediti\" S&P 500. Na kraju ćemo za jednu metodu usporediti rezultate optimizacije ako prinose gledamo na mjesečnoj i godišnjoj razini.\n",
    "Prvo učitavamo podatke s Yahoo Finance-a, te ih pripremamo za optimizacije računajući prinose i ostale parametre.\n",
    "Nadalje, računamo udjele instrumenata u našem portfelju za više metoda.\n",
    "U idućoj fazi uspoređujemo performansu naših portfelja s naglaskom na vizualizaciju.\n",
    "\n",
    "Naš portfelj će činiti sljedeći objekti:\n",
    "* Amazon (AMZN)\n",
    "* Bitcoin (BTC)\n",
    "* The Coca-Cola Company (KO)\n",
    "* JPMorgan Chase & Co (JPM)\n",
    "* Boeing Company (BA) \n",
    "* Visa Inc (V) \n",
    "* Johnson&Johnson (JNJ)\n",
    "\n"
   ]
  },
  {
   "cell_type": "markdown",
   "metadata": {},
   "source": [
    "## Učitavanje i priprema podataka"
   ]
  },
  {
   "cell_type": "code",
   "execution_count": 261,
   "metadata": {},
   "outputs": [],
   "source": [
    "import matplotlib.pyplot as plt\n",
    "import pandas as pd\n",
    " \n",
    "def ucitaj(x):\n",
    "    y=\"%s.csv\"%x\n",
    "    z=pd.read_csv(y)\n",
    "    del z['High'],z['Low'],z['Close'],z['Adj Close'],z['Volume']\n",
    "    z.drop(0, inplace=True)\n",
    "    z.rename(columns={'Open':'Price'},inplace=True)\n",
    "    return z"
   ]
  },
  {
   "cell_type": "code",
   "execution_count": 262,
   "metadata": {},
   "outputs": [],
   "source": [
    "import numpy as np\n",
    "\n",
    "def povrat(x):\n",
    "    y=np.linspace(0,0,59)\n",
    "    for i in range(1,60):\n",
    "        y[i-1]=(x['Price'][i+1]-x['Price'][i])/(x['Price'][i])*100\n",
    "    return y"
   ]
  },
  {
   "cell_type": "code",
   "execution_count": 285,
   "metadata": {},
   "outputs": [],
   "source": [
    "port=['AMZN','BTC','KO','JPM','BA','V','JNJ']\n",
    "z={p : povrat(ucitaj(p)) for p in port}"
   ]
  },
  {
   "cell_type": "markdown",
   "metadata": {},
   "source": [
    "## Provođenje metoda"
   ]
  },
  {
   "cell_type": "markdown",
   "metadata": {},
   "source": [
    "### Portfelj 1: Equal Weight \n",
    "Najjednostavnija vrsta je da od svih 7 uzmemo jednak udio svakog instrumenata u našem portfelju i da to bude naša strategija za 2017. godinu."
   ]
  },
  {
   "cell_type": "code",
   "execution_count": 286,
   "metadata": {},
   "outputs": [
    {
     "data": {
      "image/png": "[encoded data removed]",
      "text/plain": [
       "<Figure size 432x288 with 1 Axes>"
      ]
     },
     "metadata": {},
     "output_type": "display_data"
    }
   ],
   "source": [
    "w1=np.linspace(1/7,1/7,7)\n",
    "labels= 'AMZN','BTC','KO','JPM','BA','V','JNJ'\n",
    "fig1, ax1 = plt.subplots()\n",
    "ax1.pie(w1, labels=labels)\n",
    "ax1.axis('equal') \n",
    "plt.show()"
   ]
  },
  {
   "cell_type": "markdown",
   "metadata": {},
   "source": [
    "### Portfelj 2: Minimum Variance\n",
    "Strategija se temelji na optimizaciji udjela instrumenata tako da se maksimizira povrat (uz postavljenu donju granicu povrata) pritom minimizirajuci rizik tj varijancu. \n",
    "Za donji povrat uzimamo 10% na godišnjoj razini (želimo pobijediti S&P 500, a njen godišnji povrat kroz povijest je oko 8%, ali mi smo spremni na veci rizik). Posto gledamo podatke na mjesecnoj razini donju granicu treba prilagoditi.\n",
    "\n",
    "Drugim rjecima: _FORMULE_\n",
    "\n",
    "Za to ce nam biti potreban paket *cvxopt* (potrebno ga je dodatno skinuti i instalirati sto zna biti dugotrajno: \n",
    "http://cvxopt.org/download/index.html)"
   ]
  },
  {
   "cell_type": "code",
   "execution_count": 339,
   "metadata": {},
   "outputs": [
    {
     "data": {
      "text/plain": [
       "0.7974140428903764"
      ]
     },
     "execution_count": 339,
     "metadata": {},
     "output_type": "execute_result"
    }
   ],
   "source": [
    "rg=0.10\n",
    "r=((1+rg)**(1/12)-1)*100\n",
    "n=7\n",
    "r"
   ]
  },
  {
   "cell_type": "code",
   "execution_count": 340,
   "metadata": {},
   "outputs": [],
   "source": [
    "from statsmodels.stats.correlation_tools import cov_nearest\n",
    "from cvxopt import matrix,solvers\n",
    "\n",
    "data=[(povrat(ucitaj(p))) for p in port]\n",
    "cv=cov_nearest(np.cov(data))\n",
    "P=matrix(np.cov(data))"
   ]
  },
  {
   "cell_type": "code",
   "execution_count": 341,
   "metadata": {},
   "outputs": [],
   "source": [
    "ravg=[z[p].mean() for p in port]\n",
    "ravg=matrix(ravg)"
   ]
  },
  {
   "cell_type": "code",
   "execution_count": 342,
   "metadata": {},
   "outputs": [],
   "source": [
    "G= matrix(np.concatenate((-np.transpose(np.array(ravg)), -np.identity(n)), 0))\n",
    "h = matrix(np.concatenate((-np.ones((1,1))*r, np.zeros((n,1))), 0))\n",
    "q = matrix(np.zeros((n, 1)))"
   ]
  },
  {
   "cell_type": "code",
   "execution_count": 343,
   "metadata": {},
   "outputs": [
    {
     "name": "stdout",
     "output_type": "stream",
     "text": [
      "4.65834336382758e-08\n",
      "2.8079320074491786e-07\n",
      "0.33477583209897793\n",
      "0.055989989760665555\n",
      "0.032222948677874896\n",
      "0.1882526450407398\n",
      "0.3887582570451074\n"
     ]
    }
   ],
   "source": [
    "A = matrix(1.0, (1,n))\n",
    "b=matrix(1.0)\n",
    "solvers.options['show_progress']=False\n",
    "solvers.options['maxiters']=100\n",
    "w2=solvers.qp(P, q, G, h, A, b)\n",
    "for i in range(0,7):\n",
    "    print(w2['x'][i])"
   ]
  },
  {
   "cell_type": "code",
   "execution_count": 344,
   "metadata": {},
   "outputs": [],
   "source": [
    "w2=[4.65834336382758e-08,2.8079320074491786e-07,0.33477583209897793,\n",
    "    0.055989989760665555,0.032222948677874896,0.1882526450407398,0.3887582570451074]"
   ]
  },
  {
   "cell_type": "code",
   "execution_count": 345,
   "metadata": {},
   "outputs": [
    {
     "data": {
      "image/png": "[encoded data removed]",
      "text/plain": [
       "<Figure size 432x288 with 1 Axes>"
      ]
     },
     "metadata": {},
     "output_type": "display_data"
    }
   ],
   "source": [
    "fig2, ax2 = plt.subplots()\n",
    "ax2.pie(w2, labels=labels)\n",
    "ax2.axis('equal') \n",
    "plt.show()"
   ]
  },
  {
   "cell_type": "code",
   "execution_count": null,
   "metadata": {},
   "outputs": [],
   "source": []
  },
  {
   "cell_type": "markdown",
   "metadata": {},
   "source": [
    "### Portfelj 3: Maximum Diversification\n",
    "Nesto nesto\n",
    "\n",
    "Nesto"
   ]
  },
  {
   "cell_type": "markdown",
   "metadata": {},
   "source": [
    "## Testiranje rezultata "
   ]
  },
  {
   "cell_type": "code",
   "execution_count": null,
   "metadata": {},
   "outputs": [],
   "source": []
  },
  {
   "cell_type": "markdown",
   "metadata": {},
   "source": [
    "## Zaključak"
   ]
  },
  {
   "cell_type": "code",
   "execution_count": null,
   "metadata": {},
   "outputs": [],
   "source": []
  }
 ],
 "metadata": {
  "kernelspec": {
   "display_name": "Python 3",
   "language": "python",
   "name": "python3"
  },
  "language_info": {
   "codemirror_mode": {
    "name": "ipython",
    "version": 3
   },
   "file_extension": ".py",
   "mimetype": "text/x-python",
   "name": "python",
   "nbconvert_exporter": "python",
   "pygments_lexer": "ipython3",
   "version": "3.5.5"
  }
 },
 "nbformat": 4,
 "nbformat_minor": 2
}
